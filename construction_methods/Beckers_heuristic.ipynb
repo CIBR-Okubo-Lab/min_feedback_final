{
 "cells": [
  {
   "cell_type": "markdown",
   "metadata": {},
   "source": [
    "This notebook demonstrates that a simple heuristic which orders neurons based on the score (out_degree / in_degree) achives similar performance as the benchmark solution. "
   ]
  },
  {
   "cell_type": "code",
   "execution_count": 1,
   "metadata": {},
   "outputs": [],
   "source": [
    "import numpy as np\n",
    "import pandas as pd"
   ]
  },
  {
   "cell_type": "code",
   "execution_count": 2,
   "metadata": {},
   "outputs": [
    {
     "data": {
      "text/html": [
       "<div>\n",
       "<style scoped>\n",
       "    .dataframe tbody tr th:only-of-type {\n",
       "        vertical-align: middle;\n",
       "    }\n",
       "\n",
       "    .dataframe tbody tr th {\n",
       "        vertical-align: top;\n",
       "    }\n",
       "\n",
       "    .dataframe thead th {\n",
       "        text-align: right;\n",
       "    }\n",
       "</style>\n",
       "<table border=\"1\" class=\"dataframe\">\n",
       "  <thead>\n",
       "    <tr style=\"text-align: right;\">\n",
       "      <th></th>\n",
       "      <th>Source Node ID</th>\n",
       "      <th>Target Node ID</th>\n",
       "      <th>Edge Weight</th>\n",
       "    </tr>\n",
       "  </thead>\n",
       "  <tbody>\n",
       "    <tr>\n",
       "      <th>0</th>\n",
       "      <td>720575940629970489</td>\n",
       "      <td>720575940631267655</td>\n",
       "      <td>8</td>\n",
       "    </tr>\n",
       "    <tr>\n",
       "      <th>1</th>\n",
       "      <td>720575940629970489</td>\n",
       "      <td>720575940620005542</td>\n",
       "      <td>16</td>\n",
       "    </tr>\n",
       "    <tr>\n",
       "      <th>2</th>\n",
       "      <td>720575940629970489</td>\n",
       "      <td>720575940626081319</td>\n",
       "      <td>7</td>\n",
       "    </tr>\n",
       "    <tr>\n",
       "      <th>3</th>\n",
       "      <td>720575940629970489</td>\n",
       "      <td>720575940652258806</td>\n",
       "      <td>5</td>\n",
       "    </tr>\n",
       "    <tr>\n",
       "      <th>4</th>\n",
       "      <td>720575940629970489</td>\n",
       "      <td>720575940624508563</td>\n",
       "      <td>21</td>\n",
       "    </tr>\n",
       "  </tbody>\n",
       "</table>\n",
       "</div>"
      ],
      "text/plain": [
       "       Source Node ID      Target Node ID  Edge Weight\n",
       "0  720575940629970489  720575940631267655            8\n",
       "1  720575940629970489  720575940620005542           16\n",
       "2  720575940629970489  720575940626081319            7\n",
       "3  720575940629970489  720575940652258806            5\n",
       "4  720575940629970489  720575940624508563           21"
      ]
     },
     "execution_count": 2,
     "metadata": {},
     "output_type": "execute_result"
    }
   ],
   "source": [
    "# Read the connectivity data\n",
    "df = pd.read_csv(\"../data/connectome_graph.csv\")\n",
    "df.columns = [\"Source Node ID\", \"Target Node ID\", \"Edge Weight\"]\n",
    "df.head()"
   ]
  },
  {
   "cell_type": "code",
   "execution_count": 3,
   "metadata": {},
   "outputs": [],
   "source": [
    "def calculate_scores(df):\n",
    "    \"\"\"\n",
    "    Calculates the scores for each node in the graph.\n",
    "\n",
    "    Args:\n",
    "        df (pd.DataFrame): adjacency list of the graph. \n",
    "    \n",
    "    Returns:\n",
    "        scores (dict): scores for each node.\n",
    "    \"\"\"\n",
    "\n",
    "    # Create a dict to store the scores for each node\n",
    "    scores = {}\n",
    "\n",
    "    # Calculate the weights of ingoing and outgoing for each node\n",
    "    in_weights = df.groupby('Target Node ID')['Edge Weight'].sum().to_dict()\n",
    "    out_weights = df.groupby('Source Node ID')['Edge Weight'].sum().to_dict()\n",
    "\n",
    "    # Calculate the score for each node\n",
    "    for node in set(df['Source Node ID']).union(set(df['Target Node ID'])):\n",
    "        if node in out_weights and node in in_weights:\n",
    "            scores[node] = out_weights[node] / in_weights[node]\n",
    "        elif node in out_weights:\n",
    "            scores[node] = out_weights[node]\n",
    "        else:\n",
    "            scores[node] = 0    # If the node is not in the graph, set the score to 0\n",
    "\n",
    "    return scores"
   ]
  },
  {
   "cell_type": "code",
   "execution_count": 4,
   "metadata": {},
   "outputs": [
    {
     "name": "stdout",
     "output_type": "stream",
     "text": [
      "720575940632510479: 1.80\n",
      "720575940618878996: 0.55\n",
      "720575940644044823: 1.05\n",
      "720575940623597592: 11.86\n",
      "720575940620451866: 0.44\n"
     ]
    }
   ],
   "source": [
    "scores = calculate_scores(df)\n",
    "\n",
    "for node in list(scores.keys())[:5]:\n",
    "    print(f\"{node}: {scores[node]:.2f}\")"
   ]
  },
  {
   "cell_type": "code",
   "execution_count": 5,
   "metadata": {},
   "outputs": [],
   "source": [
    "def run_Beckers(df):\n",
    "    \"\"\"\n",
    "    Run Becker's heuristic to sort the nodes based on their scores.\n",
    "\n",
    "    Parameters:\n",
    "        df (pd.DataFrame): The dataframe adjacency matrix.\n",
    "\n",
    "    Returns:\n",
    "        df_result (pd.DataFrame): The dataframe of the result with the columns \"Node ID\" and \"Order\".\n",
    "    \"\"\"\n",
    "\n",
    "    scores = calculate_scores(df)\n",
    "\n",
    "    # Sort the nodes based on their scores\n",
    "    sorted_nodes = sorted(scores.keys(), key=lambda x: scores[x], reverse=True)\n",
    "\n",
    "    # Organize the result into a DataFrame\n",
    "    df_result = pd.DataFrame(sorted_nodes, columns=['Node ID'])\n",
    "    df_result[\"Order\"] = range(0, len(df_result))\n",
    "    \n",
    "    return df_result"
   ]
  },
  {
   "cell_type": "code",
   "execution_count": 6,
   "metadata": {},
   "outputs": [],
   "source": [
    "sol = run_Beckers(df)"
   ]
  },
  {
   "cell_type": "code",
   "execution_count": 7,
   "metadata": {},
   "outputs": [
    {
     "data": {
      "text/html": [
       "<div>\n",
       "<style scoped>\n",
       "    .dataframe tbody tr th:only-of-type {\n",
       "        vertical-align: middle;\n",
       "    }\n",
       "\n",
       "    .dataframe tbody tr th {\n",
       "        vertical-align: top;\n",
       "    }\n",
       "\n",
       "    .dataframe thead th {\n",
       "        text-align: right;\n",
       "    }\n",
       "</style>\n",
       "<table border=\"1\" class=\"dataframe\">\n",
       "  <thead>\n",
       "    <tr style=\"text-align: right;\">\n",
       "      <th></th>\n",
       "      <th>Node ID</th>\n",
       "      <th>Order</th>\n",
       "    </tr>\n",
       "  </thead>\n",
       "  <tbody>\n",
       "    <tr>\n",
       "      <th>0</th>\n",
       "      <td>720575940623295415</td>\n",
       "      <td>0</td>\n",
       "    </tr>\n",
       "    <tr>\n",
       "      <th>1</th>\n",
       "      <td>720575940619358885</td>\n",
       "      <td>1</td>\n",
       "    </tr>\n",
       "    <tr>\n",
       "      <th>2</th>\n",
       "      <td>720575940609713710</td>\n",
       "      <td>2</td>\n",
       "    </tr>\n",
       "    <tr>\n",
       "      <th>3</th>\n",
       "      <td>720575940617415803</td>\n",
       "      <td>3</td>\n",
       "    </tr>\n",
       "    <tr>\n",
       "      <th>4</th>\n",
       "      <td>720575940621106977</td>\n",
       "      <td>4</td>\n",
       "    </tr>\n",
       "  </tbody>\n",
       "</table>\n",
       "</div>"
      ],
      "text/plain": [
       "              Node ID  Order\n",
       "0  720575940623295415      0\n",
       "1  720575940619358885      1\n",
       "2  720575940609713710      2\n",
       "3  720575940617415803      3\n",
       "4  720575940621106977      4"
      ]
     },
     "execution_count": 7,
     "metadata": {},
     "output_type": "execute_result"
    }
   ],
   "source": [
    "sol.head()"
   ]
  },
  {
   "cell_type": "code",
   "execution_count": 8,
   "metadata": {},
   "outputs": [],
   "source": [
    "def evaluate(df, sol):\n",
    "    \"\"\"Evaluate the sum of feedforward weights and fraction of feedforward weights given a solution.\n",
    "\n",
    "    Args:\n",
    "        df (pd.DataFrame): adjacency list of the graph\n",
    "        sol (pd.DataFrame): solution with Node ID and Order\n",
    "\n",
    "    Returns:\n",
    "        sum_ff (np.int64): sum of feedforward weights\n",
    "        ratio (np.float): proportion of feedforward weights over sum of weights\n",
    "\n",
    "    \"\"\"\n",
    "    source_order = df['Source Node ID'].map(sol.set_index('Node ID')['Order'])\n",
    "    target_order = df['Target Node ID'].map(sol.set_index('Node ID')['Order'])\n",
    "    sum_ff = df['Edge Weight'][(target_order > source_order)].sum()\n",
    "    ratio = sum_ff / np.sum(df[\"Edge Weight\"])\n",
    "\n",
    "    return sum_ff.item(), ratio.item()"
   ]
  },
  {
   "cell_type": "code",
   "execution_count": 9,
   "metadata": {},
   "outputs": [
    {
     "name": "stdout",
     "output_type": "stream",
     "text": [
      "sum of feedforward weights: 30136267, ratio: 0.72\n"
     ]
    }
   ],
   "source": [
    "sum_ff, ratio = evaluate(df, sol)\n",
    "print(f'sum of feedforward weights: {sum_ff}, ratio: {ratio:.2f}')"
   ]
  },
  {
   "cell_type": "code",
   "execution_count": 10,
   "metadata": {},
   "outputs": [
    {
     "name": "stdout",
     "output_type": "stream",
     "text": [
      "sum of feedforward weights: 29023882, ratio: 0.69\n"
     ]
    }
   ],
   "source": [
    "# Compare with the benchmark solution\n",
    "sol_benchmark = pd.read_csv(\"../data/benchmark.csv\")\n",
    "sum_ff, ratio = evaluate(df, sol_benchmark)\n",
    "print(f'sum of feedforward weights: {sum_ff}, ratio: {ratio:.2f}')"
   ]
  }
 ],
 "metadata": {
  "kernelspec": {
   "display_name": "Python 3",
   "language": "python",
   "name": "python3"
  },
  "language_info": {
   "codemirror_mode": {
    "name": "ipython",
    "version": 3
   },
   "file_extension": ".py",
   "mimetype": "text/x-python",
   "name": "python",
   "nbconvert_exporter": "python",
   "pygments_lexer": "ipython3",
   "version": "3.12.4"
  }
 },
 "nbformat": 4,
 "nbformat_minor": 2
}
