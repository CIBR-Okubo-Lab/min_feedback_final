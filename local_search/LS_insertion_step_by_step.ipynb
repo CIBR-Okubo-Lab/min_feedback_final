{
 "cells": [
  {
   "cell_type": "markdown",
   "metadata": {},
   "source": [
    "This notebook illustrates local search with insertion implementation step by step. "
   ]
  },
  {
   "cell_type": "code",
   "execution_count": 1,
   "metadata": {},
   "outputs": [],
   "source": [
    "import pandas as pd\n",
    "import numpy as np"
   ]
  },
  {
   "cell_type": "code",
   "execution_count": 2,
   "metadata": {},
   "outputs": [],
   "source": [
    "import utils"
   ]
  },
  {
   "cell_type": "code",
   "execution_count": 3,
   "metadata": {},
   "outputs": [
    {
     "data": {
      "text/plain": [
       "<Token var=<ContextVar name='format_options' default={'edgeitems': 3, 'threshold': 1000, 'floatmode': 'maxprec', 'precision': 8, 'suppress': False, 'linewidth': 75, 'nanstr': 'nan', 'infstr': 'inf', 'sign': '-', 'formatter': None, 'legacy': 9223372036854775807, 'override_repr': None} at 0x71bb80086ed0> at 0x71bb78222b00>"
      ]
     },
     "execution_count": 3,
     "metadata": {},
     "output_type": "execute_result"
    }
   ],
   "source": [
    "np.set_printoptions(legacy='1.25')              # set print options"
   ]
  },
  {
   "cell_type": "code",
   "execution_count": 4,
   "metadata": {},
   "outputs": [],
   "source": [
    "df = pd.read_csv('../data/connectome_graph.csv')\n",
    "sol_df = pd.read_csv('../data/benchmark.csv')   # first read in as a pd.DataFrame\n",
    "sol = sol_df.set_index('Node ID')['Order']      # convert to pd.Series"
   ]
  },
  {
   "cell_type": "code",
   "execution_count": 5,
   "metadata": {},
   "outputs": [],
   "source": [
    "sol = sol.sort_values()                         # solution needs to be sorted by order "
   ]
  },
  {
   "cell_type": "code",
   "execution_count": 6,
   "metadata": {},
   "outputs": [
    {
     "data": {
      "text/plain": [
       "Node ID\n",
       "720575940626087322    0\n",
       "720575940611746258    1\n",
       "720575940610412386    2\n",
       "720575940624724919    3\n",
       "720575940626365768    4\n",
       "Name: Order, dtype: int64"
      ]
     },
     "execution_count": 6,
     "metadata": {},
     "output_type": "execute_result"
    }
   ],
   "source": [
    "sol[:5]"
   ]
  },
  {
   "cell_type": "code",
   "execution_count": 7,
   "metadata": {},
   "outputs": [
    {
     "data": {
      "text/plain": [
       "29023882"
      ]
     },
     "execution_count": 7,
     "metadata": {},
     "output_type": "execute_result"
    }
   ],
   "source": [
    "score = utils.evaluate(df, sol)\n",
    "score"
   ]
  },
  {
   "cell_type": "code",
   "execution_count": 8,
   "metadata": {},
   "outputs": [],
   "source": [
    "# Convert DataFrame columns to NumPy arrays\n",
    "source_node_ids = df['Source Node ID'].to_numpy()\n",
    "target_node_ids = df['Target Node ID'].to_numpy()\n",
    "edge_weights = df['Edge Weight'].to_numpy()\n",
    "sol_array = sol.index.to_numpy()"
   ]
  },
  {
   "cell_type": "code",
   "execution_count": 9,
   "metadata": {},
   "outputs": [],
   "source": [
    "d_weights = dict(zip(zip(df['Source Node ID'], df['Target Node ID']), df['Edge Weight']))  # for faster lookup"
   ]
  },
  {
   "cell_type": "code",
   "execution_count": 10,
   "metadata": {},
   "outputs": [
    {
     "data": {
      "text/plain": [
       "41912141"
      ]
     },
     "execution_count": 10,
     "metadata": {},
     "output_type": "execute_result"
    }
   ],
   "source": [
    "total = sum(d_weights.values())\n",
    "total"
   ]
  },
  {
   "cell_type": "code",
   "execution_count": 11,
   "metadata": {},
   "outputs": [],
   "source": [
    "node_id = 720575940619500248"
   ]
  },
  {
   "cell_type": "code",
   "execution_count": 12,
   "metadata": {},
   "outputs": [],
   "source": [
    "nodes_subset = utils.extract_subgraph(source_node_ids, target_node_ids, node_id) # identify node ids of the nodes in the subgraph"
   ]
  },
  {
   "cell_type": "code",
   "execution_count": 13,
   "metadata": {},
   "outputs": [],
   "source": [
    "subset_indices = np.nonzero(np.isin(sol_array, nodes_subset))[0]                 # get the order of the nodes in the subgraph"
   ]
  },
  {
   "cell_type": "code",
   "execution_count": 14,
   "metadata": {},
   "outputs": [],
   "source": [
    "sol_subset = sol_array[subset_indices]               # node ids of the subgraph in the solution order\n",
    "sol_subset_keep = sol_subset.copy()\n",
    "\n",
    "i = np.where(sol_subset == node_id)[0][0]            # order of the current node\n",
    "d_left = utils.swap_left(sol_subset, i, d_weights)   # difference by swapping with nodes on the left\n",
    "d_right = utils.swap_right(sol_subset, i, d_weights) # difference by swapping with nodes on the right\n",
    "d_diff = {**d_left, **d_right, node_id: 0} "
   ]
  },
  {
   "cell_type": "code",
   "execution_count": 16,
   "metadata": {},
   "outputs": [
    {
     "data": {
      "text/plain": [
       "{720575940627873822: 10,\n",
       " 720575940630985723: 18,\n",
       " 720575940644126664: 38,\n",
       " 720575940613978065: 112,\n",
       " 720575940631590907: 110,\n",
       " 720575940621838320: -57,\n",
       " 720575940613865443: -64,\n",
       " 720575940617837798: -64,\n",
       " 720575940624682218: -94,\n",
       " 720575940626977636: -92,\n",
       " 720575940639047908: -85,\n",
       " 720575940616012138: -80,\n",
       " 720575940619500248: 0}"
      ]
     },
     "execution_count": 16,
     "metadata": {},
     "output_type": "execute_result"
    }
   ],
   "source": [
    "d_diff"
   ]
  },
  {
   "cell_type": "code",
   "execution_count": 17,
   "metadata": {},
   "outputs": [],
   "source": [
    "insert_partner = max(d_diff, key=d_diff.get)                                    # node ID for insertion partner\n",
    "diff = d_diff[insert_partner]                                                   # difference in score of the insertion\n",
    "max_loc = subset_indices[np.where(sol_subset_keep == insert_partner)[0][0]]     # index of the insertion location"
   ]
  },
  {
   "cell_type": "code",
   "execution_count": 18,
   "metadata": {},
   "outputs": [
    {
     "data": {
      "text/plain": [
       "112"
      ]
     },
     "execution_count": 18,
     "metadata": {},
     "output_type": "execute_result"
    }
   ],
   "source": [
    "diff"
   ]
  },
  {
   "cell_type": "code",
   "execution_count": 19,
   "metadata": {},
   "outputs": [
    {
     "data": {
      "text/plain": [
       "13067"
      ]
     },
     "execution_count": 19,
     "metadata": {},
     "output_type": "execute_result"
    }
   ],
   "source": [
    "max_loc"
   ]
  },
  {
   "cell_type": "code",
   "execution_count": 21,
   "metadata": {},
   "outputs": [],
   "source": [
    "# Insertion\n",
    "i = subset_indices[np.where(sol_subset_keep == node_id)[0][0]]                  # current node's order\n",
    "j = max_loc                                                                     # insertion location\n",
    "\n",
    "order_min = min(i, j)\n",
    "order_max = max(i, j)\n",
    "\n",
    "unchanged_1_indices = np.arange(order_min)                                      # order prior to the smaller index is unchanged\n",
    "unchanged_2_indices = np.arange(start=(order_max+1), stop=sol_array.shape[0])   # order after the larger index is unchanged\n",
    "middle_indices = np.arange(order_min, (order_max+1))                            \n",
    "\n",
    "roll_dir = np.sign(j - i)                                                  \n",
    "changed = np.roll(middle_indices, roll_dir)                                     # insert the the current node to the insertion location\n",
    "\n",
    "sol_new_indices = np.concatenate([unchanged_1_indices, changed, unchanged_2_indices])  \n",
    "sorted_indices = np.argsort(sol_new_indices)                                   # sorted indices by new order\n",
    "sol_array_new = sol_array[sorted_indices]                                      # new solution"
   ]
  },
  {
   "cell_type": "code",
   "execution_count": 22,
   "metadata": {},
   "outputs": [
    {
     "data": {
      "text/plain": [
       "29023994"
      ]
     },
     "execution_count": 22,
     "metadata": {},
     "output_type": "execute_result"
    }
   ],
   "source": [
    "# New score\n",
    "score + diff"
   ]
  },
  {
   "cell_type": "code",
   "execution_count": 24,
   "metadata": {},
   "outputs": [
    {
     "data": {
      "text/plain": [
       "29023994"
      ]
     },
     "execution_count": 24,
     "metadata": {},
     "output_type": "execute_result"
    }
   ],
   "source": [
    "# Evaluate the result to confirm the insertion\n",
    "order_series = pd.Series(data=np.arange(len(sol_array_new)), index=sol_array_new)\n",
    "score_new = utils.evaluate(df, order_series)\n",
    "score_new"
   ]
  }
 ],
 "metadata": {
  "kernelspec": {
   "display_name": "min_fb",
   "language": "python",
   "name": "python3"
  },
  "language_info": {
   "codemirror_mode": {
    "name": "ipython",
    "version": 3
   },
   "file_extension": ".py",
   "mimetype": "text/x-python",
   "name": "python",
   "nbconvert_exporter": "python",
   "pygments_lexer": "ipython3",
   "version": "3.12.4"
  }
 },
 "nbformat": 4,
 "nbformat_minor": 2
}
